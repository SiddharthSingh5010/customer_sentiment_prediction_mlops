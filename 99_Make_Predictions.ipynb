{
 "cells": [
  {
   "cell_type": "code",
   "execution_count": 0,
   "metadata": {
    "application/vnd.databricks.v1+cell": {
     "cellMetadata": {
      "byteLimit": 2048000,
      "rowLimit": 10000
     },
     "inputWidgets": {},
     "nuid": "733cc656-1d69-43b1-9a96-59ea871ff03d",
     "showTitle": false,
     "title": ""
    }
   },
   "outputs": [],
   "source": [
    "dbutils.widgets.text(\"tablename\", \"tablename\")\n",
    "tablename= dbutils.widgets.get('tablename')"
   ]
  },
  {
   "cell_type": "markdown",
   "metadata": {
    "application/vnd.databricks.v1+cell": {
     "cellMetadata": {},
     "inputWidgets": {},
     "nuid": "698f8466-862a-4295-9206-40e15a67483d",
     "showTitle": false,
     "title": ""
    }
   },
   "source": [
    "# Libs"
   ]
  },
  {
   "cell_type": "code",
   "execution_count": 0,
   "metadata": {
    "application/vnd.databricks.v1+cell": {
     "cellMetadata": {
      "byteLimit": 2048000,
      "rowLimit": 10000
     },
     "inputWidgets": {},
     "nuid": "e2520161-8ade-456f-a4b6-e1f66c8c2bc4",
     "showTitle": false,
     "title": ""
    }
   },
   "outputs": [],
   "source": [
    "import pandas as pd\n",
    "import numpy as np\n",
    "import nltk\n",
    "from nltk.tokenize import word_tokenize\n",
    "import pickle\n",
    "from joblib import Parallel, delayed\n",
    "import multiprocessing\n",
    "from tqdm import tqdm\n",
    "from nltk.corpus import wordnet, stopwords\n",
    "from warnings import filterwarnings\n",
    "import mlflow\n",
    "filterwarnings('ignore')"
   ]
  },
  {
   "cell_type": "markdown",
   "metadata": {
    "application/vnd.databricks.v1+cell": {
     "cellMetadata": {},
     "inputWidgets": {},
     "nuid": "fb320333-ef44-4547-9dbd-ce6502c30c42",
     "showTitle": false,
     "title": ""
    }
   },
   "source": [
    "# Dowload nltk"
   ]
  },
  {
   "cell_type": "code",
   "execution_count": 0,
   "metadata": {
    "application/vnd.databricks.v1+cell": {
     "cellMetadata": {
      "byteLimit": 2048000,
      "rowLimit": 10000
     },
     "inputWidgets": {},
     "nuid": "d6b5d8ad-e758-4ed7-b020-6ee6b6fc0ce8",
     "showTitle": false,
     "title": ""
    }
   },
   "outputs": [],
   "source": [
    "nltk.download('punkt')\n",
    "nltk.download('stopwords')\n",
    "nltk.download('wordnet')\n",
    "nltk.download('words')\n",
    "nltk.download('averaged_perceptron_tagger')"
   ]
  },
  {
   "cell_type": "markdown",
   "metadata": {
    "application/vnd.databricks.v1+cell": {
     "cellMetadata": {},
     "inputWidgets": {},
     "nuid": "135b7b04-b163-4f3d-b7de-dcd37cdcbb9c",
     "showTitle": false,
     "title": ""
    }
   },
   "source": [
    "# Load  Data"
   ]
  },
  {
   "cell_type": "code",
   "execution_count": 0,
   "metadata": {
    "application/vnd.databricks.v1+cell": {
     "cellMetadata": {
      "byteLimit": 2048000,
      "rowLimit": 10000
     },
     "inputWidgets": {},
     "nuid": "7b01f452-c30f-43d5-aed5-c216b13ddd9b",
     "showTitle": false,
     "title": ""
    }
   },
   "outputs": [],
   "source": [
    "# Loading Data\n",
    "data = spark.sql(f\"select * from {tablename}\").toPandas()\n",
    "\n",
    "# replacement dictionary generated from EDA\n",
    "with open('replace_dict.pkl', 'rb') as f:\n",
    "  replacement_dict = pickle.load(f)"
   ]
  },
  {
   "cell_type": "code",
   "execution_count": 0,
   "metadata": {
    "application/vnd.databricks.v1+cell": {
     "cellMetadata": {
      "byteLimit": 2048000,
      "rowLimit": 10000
     },
     "inputWidgets": {},
     "nuid": "b5c51c15-ceb5-4ab0-ae5a-928be40d58e9",
     "showTitle": false,
     "title": ""
    }
   },
   "outputs": [],
   "source": [
    "data.head()"
   ]
  },
  {
   "cell_type": "markdown",
   "metadata": {
    "application/vnd.databricks.v1+cell": {
     "cellMetadata": {},
     "inputWidgets": {},
     "nuid": "bc31a51b-7c30-4cee-ba61-f0e11bbbc5cf",
     "showTitle": false,
     "title": ""
    }
   },
   "source": [
    "# Functions"
   ]
  },
  {
   "cell_type": "code",
   "execution_count": 0,
   "metadata": {
    "application/vnd.databricks.v1+cell": {
     "cellMetadata": {
      "byteLimit": 2048000,
      "rowLimit": 10000
     },
     "inputWidgets": {},
     "nuid": "d5508ca9-4416-4da9-be87-846cc5708b1a",
     "showTitle": false,
     "title": ""
    }
   },
   "outputs": [],
   "source": [
    "def replace_shortwords(replacement_dict,text):\n",
    "  \"\"\"function to replace short words to proper words using a replacement dictionary eg. awsm to awesome\n",
    "  replacement_dict : dict : dictionary created in EDA process\n",
    "  text : string : text which need to be treated\"\"\"\n",
    "  word_list= word_tokenize(text)\n",
    "  for r in replacement_dict.keys():\n",
    "      word_list=list(pd.Series(word_list).replace(r,replacement_dict[r]))\n",
    "  return \" \".join(word_list)\n",
    "\n",
    "stopwords_list = stopwords.words('english')\n",
    "def ReviewProcessing(df):\n",
    "  \"\"\"function to remove stopwords\n",
    "  df : pd.DataFrame : Dataframe which contains 'combined_cleaned' column\"\"\"\n",
    "  # remove non alphanumeric\n",
    "  df['text_cleaned'] = df.text_cleaned.str.replace('[^a-zA-Z0-9 ]', '')\n",
    "  # lowercase\n",
    "  df.text_cleaned = df.text_cleaned.str.lower()\n",
    "  # split into list\n",
    "  df.text_cleaned = df.text_cleaned.str.split(' ')\n",
    "  # remove stopwords\n",
    "  df.text_cleaned = df.text_cleaned.apply(lambda x: [item for item in x if item not in stopwords_list])\n",
    "  return df\n",
    "\n",
    "def get_wordnet_pos(word):\n",
    "  \"\"\"function to perform Lemmatization on text\n",
    "  word : string : word in a paragraph\"\"\"\n",
    "  tag = nltk.pos_tag([word])[0][1][0].upper()\n",
    "  tag_dict = {\"J\": wordnet.ADJ,\n",
    "                \"N\": wordnet.NOUN,\n",
    "                \"V\": wordnet.VERB,\n",
    "                \"R\": wordnet.ADV}\n",
    "  return tag_dict.get(tag, wordnet.NOUN)\n",
    "\n",
    "lemmatizer = nltk.stem.WordNetLemmatizer()\n",
    "\n",
    "def get_lemmatize(sent):\n",
    "  \"\"\"function to perfrom Lemmatization on text\n",
    "  sent : string : sentence\"\"\"\n",
    "  return \" \".join([lemmatizer.lemmatize(w, get_wordnet_pos(w)) for w in nltk.word_tokenize(sent)])"
   ]
  },
  {
   "cell_type": "markdown",
   "metadata": {
    "application/vnd.databricks.v1+cell": {
     "cellMetadata": {},
     "inputWidgets": {},
     "nuid": "0bbd8907-7fdb-4d63-8f9a-b0ee64ddb538",
     "showTitle": false,
     "title": ""
    }
   },
   "source": [
    "# Transformations"
   ]
  },
  {
   "cell_type": "markdown",
   "metadata": {
    "application/vnd.databricks.v1+cell": {
     "cellMetadata": {},
     "inputWidgets": {},
     "nuid": "23ab89dd-05fc-4155-8215-fcc68710e2e2",
     "showTitle": false,
     "title": ""
    }
   },
   "source": [
    "## Filtering and Cleaning"
   ]
  },
  {
   "cell_type": "code",
   "execution_count": 0,
   "metadata": {
    "application/vnd.databricks.v1+cell": {
     "cellMetadata": {
      "byteLimit": 2048000,
      "rowLimit": 10000
     },
     "inputWidgets": {},
     "nuid": "9d80faa6-6d41-415c-bb59-bcff01dab826",
     "showTitle": false,
     "title": ""
    }
   },
   "outputs": [],
   "source": [
    "# Removing Null Records from Summary\n",
    "data=data.dropna(subset='text')"
   ]
  },
  {
   "cell_type": "markdown",
   "metadata": {
    "application/vnd.databricks.v1+cell": {
     "cellMetadata": {},
     "inputWidgets": {},
     "nuid": "ef6d7faf-33e0-4369-9c68-1a47be861b3b",
     "showTitle": false,
     "title": ""
    }
   },
   "source": [
    "## Replacing short words to proper words"
   ]
  },
  {
   "cell_type": "code",
   "execution_count": 0,
   "metadata": {
    "application/vnd.databricks.v1+cell": {
     "cellMetadata": {
      "byteLimit": 2048000,
      "rowLimit": 10000
     },
     "inputWidgets": {},
     "nuid": "eaa136c5-9136-4216-8e3e-90d10dea182d",
     "showTitle": false,
     "title": ""
    }
   },
   "outputs": [],
   "source": [
    "# Replacing short words with proper words\n",
    "data=data.reset_index(drop=True)\n",
    "result = Parallel(verbose = 0, n_jobs=multiprocessing.cpu_count())(delayed(replace_shortwords)(replacement_dict=replacement_dict,text=x) for x in tqdm(data['text']))\n",
    "data['text_cleaned']=pd.Series(result)"
   ]
  },
  {
   "cell_type": "markdown",
   "metadata": {
    "application/vnd.databricks.v1+cell": {
     "cellMetadata": {},
     "inputWidgets": {},
     "nuid": "91547321-989c-46ee-98e9-302b3b48c5c0",
     "showTitle": false,
     "title": ""
    }
   },
   "source": [
    "## Lemmatization"
   ]
  },
  {
   "cell_type": "code",
   "execution_count": 0,
   "metadata": {
    "application/vnd.databricks.v1+cell": {
     "cellMetadata": {
      "byteLimit": 2048000,
      "rowLimit": 10000
     },
     "inputWidgets": {},
     "nuid": "7b773611-642d-47d5-929e-193722143c52",
     "showTitle": false,
     "title": ""
    }
   },
   "outputs": [],
   "source": [
    "clean_data = ReviewProcessing(data)\n",
    "clean_data.text_cleaned = clean_data.text_cleaned.apply(' '.join)\n",
    "clean_data['text_cleaned_lemmatized'] = clean_data.text_cleaned.apply(get_lemmatize)\n",
    "clean_data=clean_data.drop_duplicates()"
   ]
  },
  {
   "cell_type": "code",
   "execution_count": 0,
   "metadata": {
    "application/vnd.databricks.v1+cell": {
     "cellMetadata": {
      "byteLimit": 2048000,
      "rowLimit": 10000
     },
     "inputWidgets": {},
     "nuid": "b5ab8eb3-0169-41de-80c7-690b80d69edd",
     "showTitle": false,
     "title": ""
    }
   },
   "outputs": [],
   "source": [
    "clean_data.head()"
   ]
  },
  {
   "cell_type": "markdown",
   "metadata": {
    "application/vnd.databricks.v1+cell": {
     "cellMetadata": {},
     "inputWidgets": {},
     "nuid": "46c47bd9-46be-4826-926a-01821ee2dcb9",
     "showTitle": false,
     "title": ""
    }
   },
   "source": [
    "# Get Production Customer Sentiment Model"
   ]
  },
  {
   "cell_type": "code",
   "execution_count": 0,
   "metadata": {
    "application/vnd.databricks.v1+cell": {
     "cellMetadata": {
      "byteLimit": 2048000,
      "rowLimit": 10000
     },
     "inputWidgets": {},
     "nuid": "6ba69e98-5b91-4a0d-9939-e8fe8f5c46ba",
     "showTitle": false,
     "title": ""
    }
   },
   "outputs": [],
   "source": [
    "model = mlflow.sklearn.load_model('models:/Customer_Sentiment_Prediction/Production')"
   ]
  },
  {
   "cell_type": "markdown",
   "metadata": {
    "application/vnd.databricks.v1+cell": {
     "cellMetadata": {},
     "inputWidgets": {},
     "nuid": "4644a9eb-024e-434f-ad9f-26286b200f87",
     "showTitle": false,
     "title": ""
    }
   },
   "source": [
    "# Make Predictions"
   ]
  },
  {
   "cell_type": "code",
   "execution_count": 0,
   "metadata": {
    "application/vnd.databricks.v1+cell": {
     "cellMetadata": {
      "byteLimit": 2048000,
      "rowLimit": 10000
     },
     "inputWidgets": {},
     "nuid": "73ad5de5-0349-4491-afba-39264c1e54c2",
     "showTitle": false,
     "title": ""
    }
   },
   "outputs": [],
   "source": [
    "pred=model.predict(clean_data['text_cleaned_lemmatized'])\n",
    "clean_data['prediction']=pred"
   ]
  },
  {
   "cell_type": "markdown",
   "metadata": {
    "application/vnd.databricks.v1+cell": {
     "cellMetadata": {},
     "inputWidgets": {},
     "nuid": "41e8118e-0d63-4c3e-a5ae-c29ab7443ea0",
     "showTitle": false,
     "title": ""
    }
   },
   "source": [
    "# Save output to new table"
   ]
  },
  {
   "cell_type": "code",
   "execution_count": 0,
   "metadata": {
    "application/vnd.databricks.v1+cell": {
     "cellMetadata": {
      "byteLimit": 2048000,
      "rowLimit": 10000
     },
     "inputWidgets": {},
     "nuid": "c7da9439-0f78-4d00-a261-f67409c88e77",
     "showTitle": false,
     "title": ""
    }
   },
   "outputs": [],
   "source": [
    "clean_data.drop(['text_cleaned_lemmatized','text_cleaned'],axis=1,inplace=True)\n",
    "sparkdf=spark.createDataFrame(clean_data)\n",
    "try:\n",
    "    spark.sql(f\"drop table {tablename}_output\")\n",
    "except:\n",
    "    pass\n",
    "sparkdf.write.saveAsTable(f\"{tablename}_output\")"
   ]
  }
 ],
 "metadata": {
  "application/vnd.databricks.v1+notebook": {
   "dashboards": [],
   "language": "python",
   "notebookMetadata": {
    "mostRecentlyExecutedCommandWithImplicitDF": {
     "commandId": 2927738332917840,
     "dataframes": [
      "_sqldf"
     ]
    },
    "pythonIndentUnit": 4
   },
   "notebookName": "99_Make_Predictions",
   "widgets": {
    "tablename": {
     "currentValue": "test_model_2_200",
     "nuid": "8cb34dfd-c68f-4ff2-bf71-34e7edc670b9",
     "widgetInfo": {
      "widgetType": "text",
      "defaultValue": "tablename",
      "label": null,
      "name": "tablename",
      "options": {
       "widgetType": "text",
       "autoCreated": null,
       "validationRegex": null
      }
     }
    }
   }
  }
 },
 "nbformat": 4,
 "nbformat_minor": 0
}
