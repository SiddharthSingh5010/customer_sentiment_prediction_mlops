{
 "cells": [
  {
   "cell_type": "markdown",
   "metadata": {
    "application/vnd.databricks.v1+cell": {
     "cellMetadata": {},
     "inputWidgets": {},
     "nuid": "3f0af83b-bd58-4719-bcd8-70536297f95d",
     "showTitle": false,
     "title": ""
    }
   },
   "source": [
    "# Libs"
   ]
  },
  {
   "cell_type": "code",
   "execution_count": 0,
   "metadata": {
    "application/vnd.databricks.v1+cell": {
     "cellMetadata": {
      "byteLimit": 2048000,
      "rowLimit": 10000
     },
     "inputWidgets": {},
     "nuid": "1ff0d4ad-31e4-4633-a144-8add4405080f",
     "showTitle": false,
     "title": ""
    }
   },
   "outputs": [],
   "source": [
    "import mlflow"
   ]
  },
  {
   "cell_type": "code",
   "execution_count": 0,
   "metadata": {
    "application/vnd.databricks.v1+cell": {
     "cellMetadata": {
      "byteLimit": 2048000,
      "rowLimit": 10000
     },
     "inputWidgets": {},
     "nuid": "e4e346a0-3395-4453-9758-2d2eca100f2a",
     "showTitle": false,
     "title": ""
    }
   },
   "outputs": [],
   "source": [
    "# Set experiment ID\n",
    "experiment_id = '2555925875978836'\n",
    "\n",
    "# Set metric name\n",
    "metric_name = 'Accuracy Score'\n",
    "\n",
    "# Get best run based on metric\n",
    "best_run = mlflow.search_runs(experiment_ids=experiment_id).sort_values(by='metrics.Accuracy Score',ascending=False).iloc[0]\n",
    "\n",
    "# Get the run ID of the best run\n",
    "best_run_id = best_run.run_id\n",
    "model_name = best_run['params.Model']\n",
    "# Load the best model\n",
    "best_model = mlflow.pyfunc.load_model(f\"runs:/{best_run_id}/{model_name}\")"
   ]
  },
  {
   "cell_type": "code",
   "execution_count": 0,
   "metadata": {
    "application/vnd.databricks.v1+cell": {
     "cellMetadata": {
      "byteLimit": 2048000,
      "rowLimit": 10000
     },
     "inputWidgets": {},
     "nuid": "ba93b30b-a181-48ae-9d6b-cd245cc3312d",
     "showTitle": false,
     "title": ""
    }
   },
   "outputs": [],
   "source": [
    "best_model"
   ]
  },
  {
   "cell_type": "markdown",
   "metadata": {
    "application/vnd.databricks.v1+cell": {
     "cellMetadata": {},
     "inputWidgets": {},
     "nuid": "8ac38d58-df66-4065-9060-bfac727a5c7a",
     "showTitle": false,
     "title": ""
    }
   },
   "source": [
    "# Register Model"
   ]
  },
  {
   "cell_type": "code",
   "execution_count": 0,
   "metadata": {
    "application/vnd.databricks.v1+cell": {
     "cellMetadata": {
      "byteLimit": 2048000,
      "rowLimit": 10000
     },
     "inputWidgets": {},
     "nuid": "f9f2dff0-9c50-4a20-ab63-28772e137791",
     "showTitle": false,
     "title": ""
    }
   },
   "outputs": [],
   "source": [
    "# Register the model\n",
    "model_version = mlflow.register_model(f\"runs:/{best_run_id}/{model_name}\", \"Customer_Sentiment_Prediction\")\n",
    "\n",
    "print(f\"Registered model version: {model_version}\")"
   ]
  }
 ],
 "metadata": {
  "application/vnd.databricks.v1+notebook": {
   "dashboards": [],
   "language": "python",
   "notebookMetadata": {
    "pythonIndentUnit": 4
   },
   "notebookName": "4_Register_Best_Model",
   "widgets": {}
  }
 },
 "nbformat": 4,
 "nbformat_minor": 0
}
