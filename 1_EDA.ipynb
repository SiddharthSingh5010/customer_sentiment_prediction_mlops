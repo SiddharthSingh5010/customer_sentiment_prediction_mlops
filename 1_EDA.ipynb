{
 "cells": [
  {
   "cell_type": "markdown",
   "metadata": {
    "application/vnd.databricks.v1+cell": {
     "cellMetadata": {},
     "inputWidgets": {},
     "nuid": "275d0622-4929-4c0c-a2c9-c844cc18999e",
     "showTitle": false,
     "title": ""
    }
   },
   "source": [
    "# Libs"
   ]
  },
  {
   "cell_type": "code",
   "execution_count": 0,
   "metadata": {
    "application/vnd.databricks.v1+cell": {
     "cellMetadata": {
      "byteLimit": 2048000,
      "rowLimit": 10000
     },
     "inputWidgets": {},
     "nuid": "6fc3a068-293a-47f2-9d45-f508993c72fb",
     "showTitle": false,
     "title": ""
    }
   },
   "outputs": [],
   "source": [
    "import pandas as pd\n",
    "import numpy as np\n",
    "import matplotlib.pyplot as plt\n",
    "import seaborn as sns\n",
    "import nltk\n",
    "from nltk.tokenize import word_tokenize\n",
    "import pickle"
   ]
  },
  {
   "cell_type": "markdown",
   "metadata": {
    "application/vnd.databricks.v1+cell": {
     "cellMetadata": {},
     "inputWidgets": {},
     "nuid": "789c7e53-53c7-4889-b921-9b818c71c319",
     "showTitle": false,
     "title": ""
    }
   },
   "source": [
    "# Download nltk "
   ]
  },
  {
   "cell_type": "code",
   "execution_count": 0,
   "metadata": {
    "application/vnd.databricks.v1+cell": {
     "cellMetadata": {
      "byteLimit": 2048000,
      "rowLimit": 10000
     },
     "inputWidgets": {},
     "nuid": "5a6f7c22-9f1e-4fdf-b6d4-5c411214bad8",
     "showTitle": false,
     "title": ""
    }
   },
   "outputs": [],
   "source": [
    "nltk.download('punkt')"
   ]
  },
  {
   "cell_type": "markdown",
   "metadata": {
    "application/vnd.databricks.v1+cell": {
     "cellMetadata": {},
     "inputWidgets": {},
     "nuid": "6860659b-3c02-43bc-a01f-07c5c604bbad",
     "showTitle": false,
     "title": ""
    }
   },
   "source": [
    "# Load Data"
   ]
  },
  {
   "cell_type": "code",
   "execution_count": 0,
   "metadata": {
    "application/vnd.databricks.v1+cell": {
     "cellMetadata": {
      "byteLimit": 2048000,
      "rowLimit": 10000
     },
     "inputWidgets": {},
     "nuid": "29e3657d-1034-4c40-85e6-efd9193051e6",
     "showTitle": false,
     "title": ""
    }
   },
   "outputs": [],
   "source": [
    "# Loading Data\n",
    "data = spark.sql(\"select * from default.customer_review_dataset\").toPandas()"
   ]
  },
  {
   "cell_type": "code",
   "execution_count": 0,
   "metadata": {
    "application/vnd.databricks.v1+cell": {
     "cellMetadata": {
      "byteLimit": 2048000,
      "rowLimit": 10000
     },
     "inputWidgets": {},
     "nuid": "0b6f7850-6ebe-4f01-bab9-ffbf93798f47",
     "showTitle": false,
     "title": ""
    }
   },
   "outputs": [],
   "source": [
    "# Checking head of data\n",
    "data.head()"
   ]
  },
  {
   "cell_type": "code",
   "execution_count": 0,
   "metadata": {
    "application/vnd.databricks.v1+cell": {
     "cellMetadata": {
      "byteLimit": 2048000,
      "rowLimit": 10000
     },
     "inputWidgets": {},
     "nuid": "ce6d5ca5-70f1-47af-8cf6-396210ead09b",
     "showTitle": false,
     "title": ""
    }
   },
   "outputs": [],
   "source": [
    "# Checking shape of data\n",
    "data.shape\n",
    "\n",
    "## We have more than 2 lakh rows"
   ]
  },
  {
   "cell_type": "code",
   "execution_count": 0,
   "metadata": {
    "application/vnd.databricks.v1+cell": {
     "cellMetadata": {
      "byteLimit": 2048000,
      "rowLimit": 10000
     },
     "inputWidgets": {},
     "nuid": "c4b5f671-0b6f-4e65-b80c-1d2431e4d53e",
     "showTitle": false,
     "title": ""
    }
   },
   "outputs": [],
   "source": [
    "# Defining a Replace_Dict, which will be used to replace words as per EDA\n",
    "global replace_dict\n",
    "replace_dict={}\n",
    "def add_to_replace_dict(word,short_list):\n",
    "    global replace_dict\n",
    "    try:\n",
    "        replace_dict[word].extend(short_list)\n",
    "        replace_dict[word]= list(set(replace_dict[word]))\n",
    "    except:\n",
    "        replace_dict[word]=[]\n",
    "        replace_dict[word].extend(short_list)\n",
    "        replace_dict[word]= list(set(replace_dict[word]))"
   ]
  },
  {
   "cell_type": "code",
   "execution_count": 0,
   "metadata": {
    "application/vnd.databricks.v1+cell": {
     "cellMetadata": {
      "byteLimit": 2048000,
      "rowLimit": 10000
     },
     "inputWidgets": {},
     "nuid": "41d511d6-47ed-4a66-9afd-a30bb5f7dc62",
     "showTitle": false,
     "title": ""
    }
   },
   "outputs": [],
   "source": [
    "new_dict={}"
   ]
  },
  {
   "cell_type": "code",
   "execution_count": 0,
   "metadata": {
    "application/vnd.databricks.v1+cell": {
     "cellMetadata": {
      "byteLimit": 2048000,
      "rowLimit": 10000
     },
     "inputWidgets": {},
     "nuid": "c608fe4e-b6ef-4073-959d-00d1c2dd380c",
     "showTitle": false,
     "title": ""
    }
   },
   "outputs": [],
   "source": [
    "def replace_shortwords(replacement_dict,text):\n",
    "    word_list= word_tokenize(text)\n",
    "    for r in replacement_dict.keys():\n",
    "        word_list=list(pd.Series(word_list).replace(r,replacement_dict[r]))\n",
    "    return \" \".join(word_list)"
   ]
  },
  {
   "cell_type": "code",
   "execution_count": 0,
   "metadata": {
    "application/vnd.databricks.v1+cell": {
     "cellMetadata": {
      "byteLimit": 2048000,
      "rowLimit": 10000
     },
     "inputWidgets": {},
     "nuid": "d04c8a6d-5fcf-46de-bb5a-10142d4b277e",
     "showTitle": false,
     "title": ""
    }
   },
   "outputs": [],
   "source": [
    "# Checking Nulls\n",
    "data.isna().sum()\n",
    "\n",
    "## There are 11 null records in Summary, let's remove those for now"
   ]
  },
  {
   "cell_type": "code",
   "execution_count": 0,
   "metadata": {
    "application/vnd.databricks.v1+cell": {
     "cellMetadata": {
      "byteLimit": 2048000,
      "rowLimit": 10000
     },
     "inputWidgets": {},
     "nuid": "9cee1feb-7d4f-4951-8db0-3f70171a995e",
     "showTitle": false,
     "title": ""
    }
   },
   "outputs": [],
   "source": [
    "data=data.dropna(subset='Summary')"
   ]
  },
  {
   "cell_type": "code",
   "execution_count": 0,
   "metadata": {
    "application/vnd.databricks.v1+cell": {
     "cellMetadata": {
      "byteLimit": 2048000,
      "rowLimit": 10000
     },
     "inputWidgets": {},
     "nuid": "24f38af0-940d-46cd-bdb6-22a773480210",
     "showTitle": false,
     "title": ""
    }
   },
   "outputs": [],
   "source": [
    "# Checking Nulls\n",
    "data.isna().sum()"
   ]
  },
  {
   "cell_type": "code",
   "execution_count": 0,
   "metadata": {
    "application/vnd.databricks.v1+cell": {
     "cellMetadata": {
      "byteLimit": 2048000,
      "rowLimit": 10000
     },
     "inputWidgets": {},
     "nuid": "4de83e4d-12e8-42ac-a800-4c83584a546b",
     "showTitle": false,
     "title": ""
    }
   },
   "outputs": [],
   "source": [
    "# Checking dtype\n",
    "data.info()\n",
    "\n",
    "## We can see Rate, Price are object\n",
    "## We will see what non-numeric values in are in Rate and Price column"
   ]
  },
  {
   "cell_type": "code",
   "execution_count": 0,
   "metadata": {
    "application/vnd.databricks.v1+cell": {
     "cellMetadata": {
      "byteLimit": 2048000,
      "rowLimit": 10000
     },
     "inputWidgets": {},
     "nuid": "8e5557fe-6774-438c-ae5d-058e05f026a6",
     "showTitle": false,
     "title": ""
    }
   },
   "outputs": [],
   "source": [
    "# Non Numeric Values in Rate\n",
    "data[pd.to_numeric(data['Rate'], errors='coerce').isna()]['Rate'].unique()\n",
    "\n",
    "## There are 3 non numeric records in Rate, Let's check how many records are impacted"
   ]
  },
  {
   "cell_type": "code",
   "execution_count": 0,
   "metadata": {
    "application/vnd.databricks.v1+cell": {
     "cellMetadata": {
      "byteLimit": 2048000,
      "rowLimit": 10000
     },
     "inputWidgets": {},
     "nuid": "b085ef61-a40a-4654-9912-33471bdcc739",
     "showTitle": false,
     "title": ""
    }
   },
   "outputs": [],
   "source": [
    "data[data['Rate'].isin(['Pigeon Favourite Electric Kettle??????(1.5 L, Silver, Black)',\n",
    "       'Bajaj DX 2 L/W Dry Iron',\n",
    "       'Nova Plus Amaze NI 10 1100 W Dry Iron?Ã\\x83Â¿?Ã\\x83Â¿(Grey & Turquoise)'])]\n",
    "\n",
    "## There are only 3 records. Let Drop them"
   ]
  },
  {
   "cell_type": "code",
   "execution_count": 0,
   "metadata": {
    "application/vnd.databricks.v1+cell": {
     "cellMetadata": {
      "byteLimit": 2048000,
      "rowLimit": 10000
     },
     "inputWidgets": {},
     "nuid": "f76615eb-d6fb-434f-a9c1-9c3a57879731",
     "showTitle": false,
     "title": ""
    }
   },
   "outputs": [],
   "source": [
    "data = data[~data['Rate'].isin(['Pigeon Favourite Electric Kettle??????(1.5 L, Silver, Black)',\n",
    "       'Bajaj DX 2 L/W Dry Iron',\n",
    "       'Nova Plus Amaze NI 10 1100 W Dry Iron?Ã\\x83Â¿?Ã\\x83Â¿(Grey & Turquoise)'])]"
   ]
  },
  {
   "cell_type": "code",
   "execution_count": 0,
   "metadata": {
    "application/vnd.databricks.v1+cell": {
     "cellMetadata": {
      "byteLimit": 2048000,
      "rowLimit": 10000
     },
     "inputWidgets": {},
     "nuid": "939b60ef-6dd8-44c1-b7e6-5f0ec8081aab",
     "showTitle": false,
     "title": ""
    }
   },
   "outputs": [],
   "source": [
    "# Now let's convert Rate to numeric\n",
    "data['Rate'] = pd.to_numeric(data['Rate'])"
   ]
  },
  {
   "cell_type": "code",
   "execution_count": 0,
   "metadata": {
    "application/vnd.databricks.v1+cell": {
     "cellMetadata": {
      "byteLimit": 2048000,
      "rowLimit": 10000
     },
     "inputWidgets": {},
     "nuid": "d76dc7b0-442a-4f34-ab85-5b472ea3a53f",
     "showTitle": false,
     "title": ""
    }
   },
   "outputs": [],
   "source": [
    "# Since we are doing sentiment classification, We don't need Product Price, so let's drop it\n",
    "data.drop(['product_price','product_name'],axis=1,inplace=True)"
   ]
  },
  {
   "cell_type": "code",
   "execution_count": 0,
   "metadata": {
    "application/vnd.databricks.v1+cell": {
     "cellMetadata": {
      "byteLimit": 2048000,
      "rowLimit": 10000
     },
     "inputWidgets": {},
     "nuid": "565e07dd-e577-4137-9538-f2a826649ac8",
     "showTitle": false,
     "title": ""
    }
   },
   "outputs": [],
   "source": [
    "data"
   ]
  },
  {
   "cell_type": "code",
   "execution_count": 0,
   "metadata": {
    "application/vnd.databricks.v1+cell": {
     "cellMetadata": {
      "byteLimit": 2048000,
      "rowLimit": 10000
     },
     "inputWidgets": {},
     "nuid": "52f64b19-cfff-4571-a177-cc891f2d6112",
     "showTitle": false,
     "title": ""
    }
   },
   "outputs": [],
   "source": [
    "# Now let's see if Rate and Sentiment columns are more or less provide same information\n",
    "data.groupby('Sentiment')['Rate'].mean()"
   ]
  },
  {
   "cell_type": "code",
   "execution_count": 0,
   "metadata": {
    "application/vnd.databricks.v1+cell": {
     "cellMetadata": {
      "byteLimit": 2048000,
      "rowLimit": 10000
     },
     "inputWidgets": {},
     "nuid": "412a2464-9513-41ee-a00a-8942deef194e",
     "showTitle": false,
     "title": ""
    }
   },
   "outputs": [],
   "source": [
    "# Also check Unique\n",
    "# Now let's see if Rate and Sentiment columns are more or less provide same information\n",
    "data.groupby('Sentiment')['Rate'].unique()\n",
    "\n",
    "## Looks like, our assumption of these two columns providing similar information failed, let's look for specific cases"
   ]
  },
  {
   "cell_type": "code",
   "execution_count": 0,
   "metadata": {
    "application/vnd.databricks.v1+cell": {
     "cellMetadata": {
      "byteLimit": 2048000,
      "rowLimit": 10000
     },
     "inputWidgets": {},
     "nuid": "3a7fd5b0-0871-4ca7-b9ee-2cefce8ff1f7",
     "showTitle": false,
     "title": ""
    }
   },
   "outputs": [],
   "source": [
    "display(data[(data['Sentiment']=='negative')&(data['Rate']>2)])\n",
    "\n",
    "## We can see that Review and Rating, not in line with Sentiment. Sentiment seems to be coming from Summary column"
   ]
  },
  {
   "cell_type": "code",
   "execution_count": 0,
   "metadata": {
    "application/vnd.databricks.v1+cell": {
     "cellMetadata": {
      "byteLimit": 2048000,
      "rowLimit": 10000
     },
     "inputWidgets": {},
     "nuid": "7bb8e5a5-4361-4370-8377-5786943310d1",
     "showTitle": false,
     "title": ""
    }
   },
   "outputs": [],
   "source": [
    "display(data[(data['Sentiment']=='neutral')&((data['Rate']>3) | (data['Rate']<3))])\n",
    "\n",
    "## We can see that Review and Rating, not in line with Sentiment. Sentiment seems to be coming from Summary column"
   ]
  },
  {
   "cell_type": "code",
   "execution_count": 0,
   "metadata": {
    "application/vnd.databricks.v1+cell": {
     "cellMetadata": {
      "byteLimit": 2048000,
      "rowLimit": 10000
     },
     "inputWidgets": {},
     "nuid": "619b6ade-3da2-412f-898b-d988570ddb1b",
     "showTitle": false,
     "title": ""
    }
   },
   "outputs": [],
   "source": [
    "display(data[(data['Sentiment']=='positive')&((data['Rate']<3))])\n",
    "\n",
    "## We can see that Review and Rating, not in line with Sentiment. Sentiment seems to be coming from Summary column"
   ]
  },
  {
   "cell_type": "code",
   "execution_count": 0,
   "metadata": {
    "application/vnd.databricks.v1+cell": {
     "cellMetadata": {
      "byteLimit": 2048000,
      "rowLimit": 10000
     },
     "inputWidgets": {},
     "nuid": "68674bc5-1475-4d2d-b812-693b86d7c346",
     "showTitle": false,
     "title": ""
    }
   },
   "outputs": [],
   "source": [
    "# Create length column for Review and Summary\n",
    "data['len_review']=data['Review'].apply(lambda x : len(x))\n",
    "data['len_summary']=data['Summary'].apply(lambda x : len(x))"
   ]
  },
  {
   "cell_type": "code",
   "execution_count": 0,
   "metadata": {
    "application/vnd.databricks.v1+cell": {
     "cellMetadata": {
      "byteLimit": 2048000,
      "rowLimit": 10000
     },
     "inputWidgets": {},
     "nuid": "4308680f-1f2d-41ef-9450-c8c6cee3e5ba",
     "showTitle": false,
     "title": ""
    }
   },
   "outputs": [],
   "source": [
    "# Let's all those records where length of Review is less than 4\n",
    "data[data['len_review']<4]['Review'].unique()\n",
    "\n",
    "## We can see nan\n",
    "## Let's remove nan"
   ]
  },
  {
   "cell_type": "code",
   "execution_count": 0,
   "metadata": {
    "application/vnd.databricks.v1+cell": {
     "cellMetadata": {
      "byteLimit": 2048000,
      "rowLimit": 10000
     },
     "inputWidgets": {},
     "nuid": "411c15b3-aa9f-47fc-a974-4d10bcfc7371",
     "showTitle": false,
     "title": ""
    }
   },
   "outputs": [],
   "source": [
    "data['Review']=data['Review'].replace('nan',np.nan)"
   ]
  },
  {
   "cell_type": "code",
   "execution_count": 0,
   "metadata": {
    "application/vnd.databricks.v1+cell": {
     "cellMetadata": {
      "byteLimit": 2048000,
      "rowLimit": 10000
     },
     "inputWidgets": {},
     "nuid": "30660b50-c32d-42fd-a436-fb9d0a71a5bf",
     "showTitle": false,
     "title": ""
    }
   },
   "outputs": [],
   "source": [
    "# Let's all those records where length of Review is less than 4\n",
    "data[data['len_review']<5]['Review'].unique()\n",
    "\n",
    "## We can see nan\n",
    "## Let's remove nan"
   ]
  },
  {
   "cell_type": "code",
   "execution_count": 0,
   "metadata": {
    "application/vnd.databricks.v1+cell": {
     "cellMetadata": {
      "byteLimit": 2048000,
      "rowLimit": 10000
     },
     "inputWidgets": {},
     "nuid": "3b87621c-d698-4d3e-b2ce-afe0da2bb2e0",
     "showTitle": false,
     "title": ""
    }
   },
   "outputs": [],
   "source": [
    "add_to_replace_dict('good',[':)'])"
   ]
  },
  {
   "cell_type": "code",
   "execution_count": 0,
   "metadata": {
    "application/vnd.databricks.v1+cell": {
     "cellMetadata": {
      "byteLimit": 2048000,
      "rowLimit": 10000
     },
     "inputWidgets": {},
     "nuid": "5d8253f7-0871-411d-b347-62a85f7cb836",
     "showTitle": false,
     "title": ""
    }
   },
   "outputs": [],
   "source": [
    "# Let's all those records where length of Review is less than 4\n",
    "data[data['len_review']==6]['Review'].unique()\n",
    "\n",
    "## We can see nan\n",
    "## Let's remove nan"
   ]
  },
  {
   "cell_type": "code",
   "execution_count": 0,
   "metadata": {
    "application/vnd.databricks.v1+cell": {
     "cellMetadata": {
      "byteLimit": 2048000,
      "rowLimit": 10000
     },
     "inputWidgets": {},
     "nuid": "c2bb1216-8725-4dad-a2e1-cc20511635a4",
     "showTitle": false,
     "title": ""
    }
   },
   "outputs": [],
   "source": [
    "add_to_replace_dict('good',['classy'])\n",
    "add_to_replace_dict('super',['superb'])\n",
    "add_to_replace_dict('awesome',['awsome'])"
   ]
  },
  {
   "cell_type": "code",
   "execution_count": 0,
   "metadata": {
    "application/vnd.databricks.v1+cell": {
     "cellMetadata": {
      "byteLimit": 2048000,
      "rowLimit": 10000
     },
     "inputWidgets": {},
     "nuid": "3a1a3994-d991-4edb-b68b-eda810962246",
     "showTitle": false,
     "title": ""
    }
   },
   "outputs": [],
   "source": [
    "# Let's all those records where length of Review is less than 4\n",
    "sorted(data[data['len_summary']==5]['Summary'].unique())\n",
    "\n",
    "## We don't see any nan or special character. Let's keep it for now"
   ]
  },
  {
   "cell_type": "code",
   "execution_count": 0,
   "metadata": {
    "application/vnd.databricks.v1+cell": {
     "cellMetadata": {
      "byteLimit": 2048000,
      "rowLimit": 10000
     },
     "inputWidgets": {},
     "nuid": "5cbf7b1a-f7b7-413e-9624-48f33c8a1c69",
     "showTitle": false,
     "title": ""
    }
   },
   "outputs": [],
   "source": [
    "\n",
    "add_to_replace_dict('awesome',['osmmm','owsam','awsum','ossam','asome','aswam','ausam','awesm','awsme','awsom'])\n",
    "add_to_replace_dict('',['ffggp'])\n",
    "add_to_replace_dict('super',['supar','supab'])\n",
    "add_to_replace_dict('good',['goood','guddd','gd gd','gud 1'])\n",
    "add_to_replace_dict('nice',['niccc','n ice','gd gd'])\n",
    "add_to_replace_dict('great',['grate'])\n",
    "add_to_replace_dict('very good',['vgood'])"
   ]
  },
  {
   "cell_type": "code",
   "execution_count": 0,
   "metadata": {
    "application/vnd.databricks.v1+cell": {
     "cellMetadata": {
      "byteLimit": 2048000,
      "rowLimit": 10000
     },
     "inputWidgets": {},
     "nuid": "b53078c0-1a80-4b19-8f54-4fb0d2c40b1c",
     "showTitle": false,
     "title": ""
    }
   },
   "outputs": [],
   "source": [
    "# Let's all those records where length of Review is less than 4\n",
    "sorted(data[data['len_summary']==6]['Summary'].unique())\n",
    "\n",
    "## We don't see any nan or special character. Let's keep it for now"
   ]
  },
  {
   "cell_type": "code",
   "execution_count": 0,
   "metadata": {
    "application/vnd.databricks.v1+cell": {
     "cellMetadata": {
      "byteLimit": 2048000,
      "rowLimit": 10000
     },
     "inputWidgets": {},
     "nuid": "e915e3ff-84ba-454c-b762-75e98e79f6ab",
     "showTitle": false,
     "title": ""
    }
   },
   "outputs": [],
   "source": [
    "\n",
    "add_to_replace_dict('awesome',['assowm','aosome','aswame','ausome','awaome','awasom','awasum','awesm','awesom','awosam','awssmm','owsome'])\n",
    "add_to_replace_dict('average',['avarge','averag','avrege'])\n",
    "add_to_replace_dict('super',['supper','supprb','supreb','supurb','suuper'])\n",
    "add_to_replace_dict('good',['classy','gd job','gd one','gooddd','gooodd','gooood'])\n",
    "add_to_replace_dict('bad',['badddd','ghatia'])\n",
    "add_to_replace_dict('great',['grate','greate'])\n",
    "add_to_replace_dict('just ok',['jst ok','jus ok','jzz ok'])\n",
    "add_to_replace_dict('love',['luv'])\n",
    "add_to_replace_dict('like',['lyk'])\n",
    "add_to_replace_dict('favourite',['fav'])\n",
    "add_to_replace_dict('nice',['niceee','nycccc','nyc','nyss'])\n",
    "add_to_replace_dict('good',['gud','gd','sandar'])\n",
    "add_to_replace_dict('perfect',['perfct'])\n",
    "add_to_replace_dict('wow',['woooow'])\n",
    "add_to_replace_dict('excellent',['xclent'])"
   ]
  },
  {
   "cell_type": "code",
   "execution_count": 0,
   "metadata": {
    "application/vnd.databricks.v1+cell": {
     "cellMetadata": {
      "byteLimit": 2048000,
      "rowLimit": 10000
     },
     "inputWidgets": {},
     "nuid": "809b476c-ec34-4234-87e2-6ad8d1dd181c",
     "showTitle": false,
     "title": ""
    }
   },
   "outputs": [],
   "source": [
    "# Let's all those records where length of Review is less than 4\n",
    "sorted(data[data['len_summary']==7]['Summary'].unique())\n",
    "\n",
    "## We don't see any nan or special character. Let's keep it for now"
   ]
  },
  {
   "cell_type": "code",
   "execution_count": 0,
   "metadata": {
    "application/vnd.databricks.v1+cell": {
     "cellMetadata": {
      "byteLimit": 2048000,
      "rowLimit": 10000
     },
     "inputWidgets": {},
     "nuid": "28faf903-9466-4172-a5f8-46b56341d3bb",
     "showTitle": false,
     "title": ""
    }
   },
   "outputs": [],
   "source": [
    "add_to_replace_dict('amazing',['amasing','ameging','amezing','amizing',])\n",
    "add_to_replace_dict('average',['avarage','avarege','averege','avrrage','everage','evarage'])\n",
    "add_to_replace_dict('best',['bestttt'])\n",
    "add_to_replace_dict('perfect',['farfect'])\n",
    "add_to_replace_dict('fabulous',['fablous','febulas'])\n",
    "add_to_replace_dict('nice',['nic'])\n",
    "add_to_replace_dict('excellent',['xcelent','exalant','exalent','exelent','exllant','exxlent'])"
   ]
  },
  {
   "cell_type": "code",
   "execution_count": 0,
   "metadata": {
    "application/vnd.databricks.v1+cell": {
     "cellMetadata": {
      "byteLimit": 2048000,
      "rowLimit": 10000
     },
     "inputWidgets": {},
     "nuid": "beef7998-b50d-414e-bf6f-ae70f88a2fd2",
     "showTitle": false,
     "title": ""
    }
   },
   "outputs": [],
   "source": [
    "# Let's all those records where length of Review is less than 4\n",
    "sorted(data[data['len_summary']==8]['Summary'].unique())\n",
    "\n",
    "## We don't see any nan or special character. Let's keep it for now"
   ]
  },
  {
   "cell_type": "code",
   "execution_count": 0,
   "metadata": {
    "application/vnd.databricks.v1+cell": {
     "cellMetadata": {
      "byteLimit": 2048000,
      "rowLimit": 10000
     },
     "inputWidgets": {},
     "nuid": "baa8d67f-b653-4ca9-9b88-a5badf3fe541",
     "showTitle": false,
     "title": ""
    }
   },
   "outputs": [],
   "source": [
    "add_to_replace_dict('wonderful',['wondrful'])"
   ]
  },
  {
   "cell_type": "code",
   "execution_count": 0,
   "metadata": {
    "application/vnd.databricks.v1+cell": {
     "cellMetadata": {
      "byteLimit": 2048000,
      "rowLimit": 10000
     },
     "inputWidgets": {},
     "nuid": "28906a4d-c10c-418f-b2b4-78313b0d5cae",
     "showTitle": false,
     "title": ""
    }
   },
   "outputs": [],
   "source": [
    "replace_dict"
   ]
  },
  {
   "cell_type": "code",
   "execution_count": 0,
   "metadata": {
    "application/vnd.databricks.v1+cell": {
     "cellMetadata": {
      "byteLimit": 2048000,
      "rowLimit": 10000
     },
     "inputWidgets": {},
     "nuid": "98cac112-f6ac-4236-bf07-4f10ebc67344",
     "showTitle": false,
     "title": ""
    }
   },
   "outputs": [],
   "source": [
    "# Savinge Replace dict as pkl file which can be used in transformation notebook\n",
    "with open('/dbfs/FileStore/replace_dict.pkl','wb') as file:\n",
    "    pickle.dump(replace_dict,file)"
   ]
  },
  {
   "cell_type": "code",
   "execution_count": 0,
   "metadata": {
    "application/vnd.databricks.v1+cell": {
     "cellMetadata": {
      "byteLimit": 2048000,
      "rowLimit": 10000
     },
     "inputWidgets": {},
     "nuid": "9907cff0-1b27-4d5a-bbde-9921420187fb",
     "showTitle": false,
     "title": ""
    }
   },
   "outputs": [],
   "source": [
    "new_replace_dict={}\n",
    "for key in replace_dict.keys():\n",
    "        for k in replace_dict[key]:\n",
    "            new_dict[k]=key"
   ]
  },
  {
   "cell_type": "code",
   "execution_count": 0,
   "metadata": {
    "application/vnd.databricks.v1+cell": {
     "cellMetadata": {
      "byteLimit": 2048000,
      "rowLimit": 10000
     },
     "inputWidgets": {},
     "nuid": "b724b1e7-6313-4f5b-89e3-7776a339b701",
     "showTitle": false,
     "title": ""
    }
   },
   "outputs": [],
   "source": [
    "# Checking Null Records\n",
    "data.isna().sum()\n",
    "\n",
    "## There are no Review for 24662 records, let's not drop the records but keep it. Replace Null with '' blank"
   ]
  },
  {
   "cell_type": "code",
   "execution_count": 0,
   "metadata": {
    "application/vnd.databricks.v1+cell": {
     "cellMetadata": {
      "byteLimit": 2048000,
      "rowLimit": 10000
     },
     "inputWidgets": {},
     "nuid": "c9e09f2d-a2b3-457f-9390-f2678cd9fdb6",
     "showTitle": false,
     "title": ""
    }
   },
   "outputs": [],
   "source": [
    "# Replacing Null records in Review with blank\n",
    "data['Review']=data['Review'].fillna('')\n",
    "\n",
    "## Let's now create combined column from Review and Summary "
   ]
  },
  {
   "cell_type": "code",
   "execution_count": 0,
   "metadata": {
    "application/vnd.databricks.v1+cell": {
     "cellMetadata": {
      "byteLimit": 2048000,
      "rowLimit": 10000
     },
     "inputWidgets": {},
     "nuid": "ceca29ff-fe2f-4148-a595-3332f6f0095e",
     "showTitle": false,
     "title": ""
    }
   },
   "outputs": [],
   "source": [
    "pip install TextBlob"
   ]
  },
  {
   "cell_type": "code",
   "execution_count": 0,
   "metadata": {
    "application/vnd.databricks.v1+cell": {
     "cellMetadata": {
      "byteLimit": 2048000,
      "rowLimit": 10000
     },
     "inputWidgets": {},
     "nuid": "5aef6a47-c7ec-4182-b0ee-36198b719211",
     "showTitle": false,
     "title": ""
    }
   },
   "outputs": [],
   "source": [
    "# Combined column\n",
    "data['combined']=data['Review']+' '+data['Summary']"
   ]
  },
  {
   "cell_type": "code",
   "execution_count": 0,
   "metadata": {
    "application/vnd.databricks.v1+cell": {
     "cellMetadata": {
      "byteLimit": 2048000,
      "rowLimit": 10000
     },
     "inputWidgets": {},
     "nuid": "db4a0d02-2ec9-4926-8616-a56241606fa0",
     "showTitle": false,
     "title": ""
    }
   },
   "outputs": [],
   "source": [
    "data.head()"
   ]
  },
  {
   "cell_type": "code",
   "execution_count": 0,
   "metadata": {
    "application/vnd.databricks.v1+cell": {
     "cellMetadata": {
      "byteLimit": 2048000,
      "rowLimit": 10000
     },
     "inputWidgets": {},
     "nuid": "bcf7ed69-5d72-4674-a94f-ffc566cd45ce",
     "showTitle": false,
     "title": ""
    }
   },
   "outputs": [],
   "source": [
    "data['combined_cleanded']=data['combined'].apply(lambda x:replace_shortwords(new_replace_dict,x))"
   ]
  },
  {
   "cell_type": "code",
   "execution_count": 0,
   "metadata": {
    "application/vnd.databricks.v1+cell": {
     "cellMetadata": {
      "byteLimit": 2048000,
      "rowLimit": 10000
     },
     "inputWidgets": {},
     "nuid": "f49b4f04-a339-4a58-ba10-2a556edfa5db",
     "showTitle": false,
     "title": ""
    }
   },
   "outputs": [],
   "source": [
    "# We can calculate polarity from combined text now and filter those records which doesn't make sense i.e eg. sentiment is negative but polarity is >0.8\n",
    "from textblob import TextBlob\n",
    "def polarity(text):\n",
    "    return TextBlob(text).sentiment.polarity\n",
    "\n",
    "data['polarity_score_combined']=data['combined'].apply(lambda x : polarity(x))"
   ]
  },
  {
   "cell_type": "code",
   "execution_count": 0,
   "metadata": {
    "application/vnd.databricks.v1+cell": {
     "cellMetadata": {
      "byteLimit": 2048000,
      "rowLimit": 10000
     },
     "inputWidgets": {},
     "nuid": "626edab4-c3d4-44a6-89f3-1c13be3cbaaf",
     "showTitle": false,
     "title": ""
    }
   },
   "outputs": [],
   "source": [
    "data.groupby('Sentiment').mean()[['polarity_score_combined']]"
   ]
  },
  {
   "cell_type": "code",
   "execution_count": 0,
   "metadata": {
    "application/vnd.databricks.v1+cell": {
     "cellMetadata": {
      "byteLimit": 2048000,
      "rowLimit": 10000
     },
     "inputWidgets": {},
     "nuid": "94087cf8-0d0c-4084-b9cb-cb8971869988",
     "showTitle": false,
     "title": ""
    }
   },
   "outputs": [],
   "source": [
    "data.groupby('Sentiment').median()[['polarity_score_combined']]"
   ]
  },
  {
   "cell_type": "code",
   "execution_count": 0,
   "metadata": {
    "application/vnd.databricks.v1+cell": {
     "cellMetadata": {
      "byteLimit": 2048000,
      "rowLimit": 10000
     },
     "inputWidgets": {},
     "nuid": "c5ac3bb3-2aae-4ac0-96a0-d0013f8e3635",
     "showTitle": false,
     "title": ""
    }
   },
   "outputs": [],
   "source": [
    "data.groupby('Sentiment').max()[['polarity_score_combined']]"
   ]
  },
  {
   "cell_type": "code",
   "execution_count": 0,
   "metadata": {
    "application/vnd.databricks.v1+cell": {
     "cellMetadata": {
      "byteLimit": 2048000,
      "rowLimit": 10000
     },
     "inputWidgets": {},
     "nuid": "5b40f317-8c48-4fd7-8afe-388b1265bfc6",
     "showTitle": false,
     "title": ""
    }
   },
   "outputs": [],
   "source": [
    "data.groupby('Sentiment').min()[['polarity_score_combined']]"
   ]
  },
  {
   "cell_type": "code",
   "execution_count": 0,
   "metadata": {
    "application/vnd.databricks.v1+cell": {
     "cellMetadata": {
      "byteLimit": 2048000,
      "rowLimit": 10000
     },
     "inputWidgets": {},
     "nuid": "a0a42a7e-edf0-4b4d-ab98-f2d90ac19f91",
     "showTitle": false,
     "title": ""
    }
   },
   "outputs": [],
   "source": [
    "# When Positive, but polarity <-0.5\n",
    "data[(data['Sentiment']=='positive')&(data['polarity_score_combined']<0)]"
   ]
  },
  {
   "cell_type": "code",
   "execution_count": 0,
   "metadata": {
    "application/vnd.databricks.v1+cell": {
     "cellMetadata": {
      "byteLimit": 2048000,
      "rowLimit": 10000
     },
     "inputWidgets": {},
     "nuid": "707b00c8-1a0d-454a-ac86-7d69cef47c05",
     "showTitle": false,
     "title": ""
    }
   },
   "outputs": [],
   "source": [
    "# Remove these rows because these are adding noise\n",
    "data = data[~((data['Sentiment']=='positive')&(data['polarity_score_combined']<0))]"
   ]
  },
  {
   "cell_type": "code",
   "execution_count": 0,
   "metadata": {
    "application/vnd.databricks.v1+cell": {
     "cellMetadata": {
      "byteLimit": 2048000,
      "rowLimit": 10000
     },
     "inputWidgets": {},
     "nuid": "5606eed1-0ee0-4aaa-ba11-a890e7735690",
     "showTitle": false,
     "title": ""
    }
   },
   "outputs": [],
   "source": [
    "# When Negative, but polarity >0.3\n",
    "data[(data['Sentiment']=='negative')&(data['polarity_score_combined']>0.3)]"
   ]
  },
  {
   "cell_type": "code",
   "execution_count": 0,
   "metadata": {
    "application/vnd.databricks.v1+cell": {
     "cellMetadata": {
      "byteLimit": 2048000,
      "rowLimit": 10000
     },
     "inputWidgets": {},
     "nuid": "0a4b98b4-beb5-48ef-982e-381766e955b4",
     "showTitle": false,
     "title": ""
    }
   },
   "outputs": [],
   "source": [
    "# Remove these rows because these are adding noise\n",
    "data = data[~((data['Sentiment']=='negative')&(data['polarity_score_combined']>0.3))]"
   ]
  },
  {
   "cell_type": "code",
   "execution_count": 0,
   "metadata": {
    "application/vnd.databricks.v1+cell": {
     "cellMetadata": {
      "byteLimit": 2048000,
      "rowLimit": 10000
     },
     "inputWidgets": {},
     "nuid": "175cb638-21a0-4654-9460-bce4020e8426",
     "showTitle": false,
     "title": ""
    }
   },
   "outputs": [],
   "source": [
    "# When Neutral, but polarity >0.7\n",
    "data[(data['Sentiment']=='neutral')&(data['polarity_score_combined']>0.7)]"
   ]
  },
  {
   "cell_type": "code",
   "execution_count": 0,
   "metadata": {
    "application/vnd.databricks.v1+cell": {
     "cellMetadata": {
      "byteLimit": 2048000,
      "rowLimit": 10000
     },
     "inputWidgets": {},
     "nuid": "9ba95439-a283-44cb-8575-01a2820b5205",
     "showTitle": false,
     "title": ""
    }
   },
   "outputs": [],
   "source": [
    "# Remove these rows because these are adding noise\n",
    "data=data[~((data['Sentiment']=='neutral')&(data['polarity_score_combined']>0.7))]"
   ]
  },
  {
   "cell_type": "code",
   "execution_count": 0,
   "metadata": {
    "application/vnd.databricks.v1+cell": {
     "cellMetadata": {
      "byteLimit": 2048000,
      "rowLimit": 10000
     },
     "inputWidgets": {},
     "nuid": "193f7ef6-fb6e-44b6-932f-5a2f0a84d4e5",
     "showTitle": false,
     "title": ""
    }
   },
   "outputs": [],
   "source": [
    "# When Neutral, but polarity <-0.5\n",
    "data[(data['Sentiment']=='neutral')&(data['polarity_score_combined']<-0.5)]"
   ]
  },
  {
   "cell_type": "code",
   "execution_count": 0,
   "metadata": {
    "application/vnd.databricks.v1+cell": {
     "cellMetadata": {
      "byteLimit": 2048000,
      "rowLimit": 10000
     },
     "inputWidgets": {},
     "nuid": "dcdd02e1-cf55-439b-a203-e83e11dd3a9d",
     "showTitle": false,
     "title": ""
    }
   },
   "outputs": [],
   "source": [
    "# Remove these rows because these are adding noise\n",
    "data=data[~((data['Sentiment']=='neutral')&(data['polarity_score_combined']<-0.5))]"
   ]
  },
  {
   "cell_type": "code",
   "execution_count": 0,
   "metadata": {
    "application/vnd.databricks.v1+cell": {
     "cellMetadata": {
      "byteLimit": 2048000,
      "rowLimit": 10000
     },
     "inputWidgets": {},
     "nuid": "03314688-086b-46ae-9be3-4cc1fcfe969c",
     "showTitle": false,
     "title": ""
    }
   },
   "outputs": [],
   "source": [
    "data.shape\n",
    "# (205052, 6)\n",
    "# Records reduced by 4342"
   ]
  },
  {
   "cell_type": "code",
   "execution_count": 0,
   "metadata": {
    "application/vnd.databricks.v1+cell": {
     "cellMetadata": {
      "byteLimit": 2048000,
      "rowLimit": 10000
     },
     "inputWidgets": {},
     "nuid": "02854f62-5be6-46cd-85d8-7e539a4b9047",
     "showTitle": false,
     "title": ""
    }
   },
   "outputs": [],
   "source": [
    "data.groupby('Sentiment').mean()[['polarity_score_combined']]"
   ]
  },
  {
   "cell_type": "code",
   "execution_count": 0,
   "metadata": {
    "application/vnd.databricks.v1+cell": {
     "cellMetadata": {
      "byteLimit": 2048000,
      "rowLimit": 10000
     },
     "inputWidgets": {},
     "nuid": "ccd9ca0b-3623-42e0-94f7-ddaa31c0c67c",
     "showTitle": false,
     "title": ""
    }
   },
   "outputs": [],
   "source": [
    "data.groupby('Sentiment').median()[['polarity_score_combined']]"
   ]
  },
  {
   "cell_type": "code",
   "execution_count": 0,
   "metadata": {
    "application/vnd.databricks.v1+cell": {
     "cellMetadata": {
      "byteLimit": 2048000,
      "rowLimit": 10000
     },
     "inputWidgets": {},
     "nuid": "b2c18232-57c5-459d-a0f8-cca182dbe9e1",
     "showTitle": false,
     "title": ""
    }
   },
   "outputs": [],
   "source": [
    "data.groupby('Sentiment').min()[['polarity_score_combined']]"
   ]
  },
  {
   "cell_type": "code",
   "execution_count": 0,
   "metadata": {
    "application/vnd.databricks.v1+cell": {
     "cellMetadata": {
      "byteLimit": 2048000,
      "rowLimit": 10000
     },
     "inputWidgets": {},
     "nuid": "e83dab0b-e300-4242-afae-949905465a32",
     "showTitle": false,
     "title": ""
    }
   },
   "outputs": [],
   "source": [
    "data.groupby('Sentiment').max()[['polarity_score_combined']]"
   ]
  },
  {
   "cell_type": "code",
   "execution_count": 0,
   "metadata": {
    "application/vnd.databricks.v1+cell": {
     "cellMetadata": {
      "byteLimit": 2048000,
      "rowLimit": 10000
     },
     "inputWidgets": {},
     "nuid": "508c9e38-c71b-459e-9e69-be50f9009219",
     "showTitle": false,
     "title": ""
    }
   },
   "outputs": [],
   "source": [
    "# Checking when sentiment = 'positive' and Rating <3\n",
    "data[(data['Sentiment']=='positive')&(data['Rate']<3)]"
   ]
  },
  {
   "cell_type": "code",
   "execution_count": 0,
   "metadata": {
    "application/vnd.databricks.v1+cell": {
     "cellMetadata": {
      "byteLimit": 2048000,
      "rowLimit": 10000
     },
     "inputWidgets": {},
     "nuid": "1cbbbad9-f475-4aa4-9921-4a847daedacb",
     "showTitle": false,
     "title": ""
    }
   },
   "outputs": [],
   "source": [
    "# Remove these records, these are adding noise\n",
    "data=data[~((data['Sentiment']=='positive')&(data['Rate']<3))]"
   ]
  },
  {
   "cell_type": "code",
   "execution_count": 0,
   "metadata": {
    "application/vnd.databricks.v1+cell": {
     "cellMetadata": {
      "byteLimit": 2048000,
      "rowLimit": 10000
     },
     "inputWidgets": {},
     "nuid": "44717fa0-d164-4dd0-b3eb-446aa76e1817",
     "showTitle": false,
     "title": ""
    }
   },
   "outputs": [],
   "source": [
    "# Checking when sentiment = 'negative' and Rating >3\n",
    "data[((data['Sentiment']=='negative')&(data['Rate']>3))]"
   ]
  },
  {
   "cell_type": "code",
   "execution_count": 0,
   "metadata": {
    "application/vnd.databricks.v1+cell": {
     "cellMetadata": {
      "byteLimit": 2048000,
      "rowLimit": 10000
     },
     "inputWidgets": {},
     "nuid": "831ad130-d662-4024-a843-a2476476e589",
     "showTitle": false,
     "title": ""
    }
   },
   "outputs": [],
   "source": [
    "# Remove these records, these are adding noise\n",
    "data=data[~((data['Sentiment']=='negative')&(data['Rate']>3))]"
   ]
  },
  {
   "cell_type": "code",
   "execution_count": 0,
   "metadata": {
    "application/vnd.databricks.v1+cell": {
     "cellMetadata": {
      "byteLimit": 2048000,
      "rowLimit": 10000
     },
     "inputWidgets": {},
     "nuid": "8299cea5-4c18-42f5-acc6-537bd79745ae",
     "showTitle": false,
     "title": ""
    }
   },
   "outputs": [],
   "source": [
    "# Checking when sentiment = 'neutral' and Rating >3\n",
    "data[((data['Sentiment']=='neutral')&((data['Rate']>4)|(data['Rate']<2)))]"
   ]
  },
  {
   "cell_type": "code",
   "execution_count": 0,
   "metadata": {
    "application/vnd.databricks.v1+cell": {
     "cellMetadata": {
      "byteLimit": 2048000,
      "rowLimit": 10000
     },
     "inputWidgets": {},
     "nuid": "dbb7f251-acd3-4986-9039-c6b3b9cdb093",
     "showTitle": false,
     "title": ""
    }
   },
   "outputs": [],
   "source": [
    "# Remove these records, these are adding noise\n",
    "data=data[~((data['Sentiment']=='neutral')&((data['Rate']>4)|(data['Rate']<2)))]"
   ]
  },
  {
   "cell_type": "code",
   "execution_count": 0,
   "metadata": {
    "application/vnd.databricks.v1+cell": {
     "cellMetadata": {
      "byteLimit": 2048000,
      "rowLimit": 10000
     },
     "inputWidgets": {},
     "nuid": "d8d4825d-3587-48a8-abfa-5dde32a3e11f",
     "showTitle": false,
     "title": ""
    }
   },
   "outputs": [],
   "source": [
    "# Finally, shape of data\n",
    "data.shape\n",
    "# (205052, 6), reduced by 9137"
   ]
  },
  {
   "cell_type": "code",
   "execution_count": 0,
   "metadata": {
    "application/vnd.databricks.v1+cell": {
     "cellMetadata": {
      "byteLimit": 2048000,
      "rowLimit": 10000
     },
     "inputWidgets": {},
     "nuid": "620ffc99-de49-4a19-a389-b3390243a745",
     "showTitle": false,
     "title": ""
    }
   },
   "outputs": [],
   "source": [
    "def sentiment(x):\n",
    "    if x < 0:\n",
    "        return 'negative'\n",
    "    elif x == 0:\n",
    "        return 'neutral'\n",
    "    else:\n",
    "        return 'positive'\n",
    "data['polarity'] = data['polarity_score_combined'].apply(sentiment)"
   ]
  },
  {
   "cell_type": "code",
   "execution_count": 0,
   "metadata": {
    "application/vnd.databricks.v1+cell": {
     "cellMetadata": {
      "byteLimit": 2048000,
      "rowLimit": 10000
     },
     "inputWidgets": {},
     "nuid": "2566b851-bca3-4a22-8b45-48d584969b24",
     "showTitle": false,
     "title": ""
    }
   },
   "outputs": [],
   "source": [
    "pd.merge(data.groupby('Sentiment').count()['Rate'].reset_index().rename(columns={'Rate':'Original'}),data.groupby('polarity').count()['Rate'].reset_index().rename(columns={'Rate':'Calculated'}),left_on='Sentiment',right_on='polarity').drop('polarity',axis=1).plot.bar(x='Sentiment')"
   ]
  },
  {
   "cell_type": "code",
   "execution_count": 0,
   "metadata": {
    "application/vnd.databricks.v1+cell": {
     "cellMetadata": {
      "byteLimit": 2048000,
      "rowLimit": 10000
     },
     "inputWidgets": {},
     "nuid": "ea35998a-a34c-41e4-ab60-e08d7398dba9",
     "showTitle": false,
     "title": ""
    }
   },
   "outputs": [],
   "source": [
    "data.value_counts('Sentiment').reset_index().plot.bar(x='Sentiment')\n",
    "# sns.barplot(x=tmp['sentiment'],y=tmp[0]);"
   ]
  }
 ],
 "metadata": {
  "application/vnd.databricks.v1+notebook": {
   "dashboards": [],
   "language": "python",
   "notebookMetadata": {
    "pythonIndentUnit": 4
   },
   "notebookName": "1_EDA",
   "widgets": {}
  }
 },
 "nbformat": 4,
 "nbformat_minor": 0
}
